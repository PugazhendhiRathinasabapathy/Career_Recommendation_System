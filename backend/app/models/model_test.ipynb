{
 "cells": [
  {
   "cell_type": "markdown",
   "metadata": {},
   "source": [
    "## This file helps to Build and test the LLama model and Langchain functions"
   ]
  },
  {
   "cell_type": "code",
   "execution_count": 1,
   "metadata": {},
   "outputs": [],
   "source": [
    "# Importing packages\n",
    "\n",
    "from langchain_groq import ChatGroq\n",
    "from dotenv import load_dotenv\n",
    "import os"
   ]
  },
  {
   "cell_type": "code",
   "execution_count": 2,
   "metadata": {},
   "outputs": [
    {
     "data": {
      "text/plain": [
       "True"
      ]
     },
     "execution_count": 2,
     "metadata": {},
     "output_type": "execute_result"
    }
   ],
   "source": [
    "#setting up env\n",
    "load_dotenv()"
   ]
  },
  {
   "cell_type": "code",
   "execution_count": 3,
   "metadata": {},
   "outputs": [],
   "source": [
    "#Building LLM\n",
    "llm = ChatGroq(\n",
    "    model='llama3-8b-8192',\n",
    "    groq_api_key=os.getenv(\"GROQ_API_KEY\"),\n",
    "    temperature=0.5\n",
    "    )"
   ]
  },
  {
   "cell_type": "code",
   "execution_count": 6,
   "metadata": {},
   "outputs": [
    {
     "name": "stdout",
     "output_type": "stream",
     "text": [
      "content=\"Karimnagar is a city and the district headquarters of Karimnagar district in the Indian state of Telangana. It is located about 170 km north of the state capital, Hyderabad. Here are some key facts about Karimnagar:\\n\\n1. History: Karimnagar has a rich history dating back to the 12th century. It was a major center of power during the Kakatiya dynasty, and later it was a part of the Vijayanagara Empire.\\n2. Geography: Karimnagar is situated on the banks of the Manair River, a tributary of the Godavari River. The city is surrounded by the Deccan Plateau and is known for its fertile soil and abundant water resources.\\n3. Economy: Karimnagar is an important agricultural hub, with crops like paddy, cotton, and sugarcane being major cash crops. The city is also known for its handloom industry, with traditional textile products like silk and cotton fabrics being produced.\\n4. Demographics: As of the 2011 census, Karimnagar has a population of around 300,000 people. The city has a mix of Telugu and Urdu speakers, with Telugu being the dominant language.\\n5. Education: Karimnagar is home to several educational institutions, including universities, colleges, and schools. The city is also known for its educational institutions, such as the Karimnagar District Library and the National Institute of Technology, Warangal.\\n6. Tourism: Karimnagar has several tourist attractions, including the Khammam Fort, the Elgandal Fort, and the Sri Raja Rajeswara Swamy Temple. The city is also known for its vibrant cultural festivals, such as the Karimnagar Utsav, which is held annually.\\n7. Cuisine: Karimnagar is famous for its traditional Telugu cuisine, which includes dishes like biryani, haleem, and dosas. The city is also known for its street food, with popular items like idlis, vadas, and samosas being available at local eateries.\\n8. Infrastructure: Karimnagar has a well-developed infrastructure, with a railway station, bus station, and airport serving the city. The city is also connected to other major cities in Telangana and Andhra Pradesh through a network of roads and highways.\\n9. Politics: Karimnagar is a significant political center in Telangana, with several politicians hailing from the city. The city has been represented by several notable politicians, including the former Chief Minister of Telangana, K. Chandrashekar Rao.\\n10. Development: Karimnagar is undergoing rapid development, with several infrastructure projects being undertaken to improve the city's connectivity and amenities. The city is also seeing growth in industries like IT and biotechnology, with several companies setting up operations in the city.\\n\\nOverall, Karimnagar is a city with a rich history, vibrant culture, and growing economy. It is an important center in Telangana and has a lot to offer to visitors and residents alike.\" additional_kwargs={} response_metadata={'token_usage': {'completion_tokens': 640, 'prompt_tokens': 20, 'total_tokens': 660, 'completion_time': 0.533333333, 'prompt_time': 0.003074134, 'queue_time': 0.018043634, 'total_time': 0.536407467}, 'model_name': 'llama3-8b-8192', 'system_fingerprint': 'fp_6a6771ae9c', 'finish_reason': 'stop', 'logprobs': None} id='run-335e8812-ae14-40e2-ab13-55cea88fa473-0' usage_metadata={'input_tokens': 20, 'output_tokens': 640, 'total_tokens': 660}\n"
     ]
    }
   ],
   "source": [
    "#Getting response \n",
    "response = llm.invoke(\"Tell me about Karim Nagar in Telangana\")\n",
    "print(response)"
   ]
  },
  {
   "cell_type": "code",
   "execution_count": 10,
   "metadata": {},
   "outputs": [
    {
     "name": "stdout",
     "output_type": "stream",
     "text": [
      "GoogleSearch Images Maps Play YouTube News Gmail Drive More »Web History | Settings | Sign in Advanced searchAdvertisingBusiness SolutionsAbout Google© 2025 - Privacy - Terms  "
     ]
    }
   ],
   "source": [
    "from langchain.document_loaders import WebBaseLoader\n",
    "\n",
    "url = \"https://www.google.com/\"\n",
    "loader = WebBaseLoader(url)\n",
    "docs = loader.load()\n",
    "\n",
    "print(docs[0].page_content, end = ' ')  # Extracted text from the webpage"
   ]
  },
  {
   "cell_type": "code",
   "execution_count": null,
   "metadata": {},
   "outputs": [],
   "source": []
  }
 ],
 "metadata": {
  "kernelspec": {
   "display_name": "base",
   "language": "python",
   "name": "python3"
  },
  "language_info": {
   "codemirror_mode": {
    "name": "ipython",
    "version": 3
   },
   "file_extension": ".py",
   "mimetype": "text/x-python",
   "name": "python",
   "nbconvert_exporter": "python",
   "pygments_lexer": "ipython3",
   "version": "3.12.7"
  }
 },
 "nbformat": 4,
 "nbformat_minor": 2
}
