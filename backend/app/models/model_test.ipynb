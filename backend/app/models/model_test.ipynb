{
 "cells": [
  {
   "cell_type": "markdown",
   "metadata": {},
   "source": [
    "## This file helps to Build and test the LLama model and Langchain functions"
   ]
  },
  {
   "cell_type": "code",
   "execution_count": 2,
   "metadata": {},
   "outputs": [],
   "source": [
    "# Importing packages\n",
    "\n",
    "from langchain_groq import ChatGroq\n",
    "from dotenv import load_dotenv\n",
    "import os"
   ]
  },
  {
   "cell_type": "code",
   "execution_count": 3,
   "metadata": {},
   "outputs": [
    {
     "data": {
      "text/plain": [
       "True"
      ]
     },
     "execution_count": 3,
     "metadata": {},
     "output_type": "execute_result"
    }
   ],
   "source": [
    "#setting up env\n",
    "load_dotenv()"
   ]
  },
  {
   "cell_type": "code",
   "execution_count": 4,
   "metadata": {},
   "outputs": [],
   "source": [
    "#Building LLM\n",
    "llm = ChatGroq(\n",
    "    model='llama3-8b-8192',\n",
    "    groq_api_key=os.getenv(\"GROQ_API_KEY\"),\n",
    "    temperature=0.5\n",
    "    )"
   ]
  },
  {
   "cell_type": "code",
   "execution_count": 5,
   "metadata": {},
   "outputs": [
    {
     "name": "stdout",
     "output_type": "stream",
     "text": [
      "content=\"Booking movie tickets in the USA is a relatively straightforward process. Here are the steps:\\n\\n**Option 1: Online Booking**\\n\\n1. Visit the website of a movie theater chain or a ticketing website like:\\n\\t* Fandango (fandango.com)\\n\\t* Atom Tickets (atomtickets.com)\\n\\t* MovieTickets (movietickets.com)\\n\\t* AMC Theatres (amctheatres.com)\\n\\t* Regal Cinemas (regmovies.com)\\n2. Enter your location or zip code to find nearby theaters.\\n3. Select the movie you want to watch and the showtime you prefer.\\n4. Choose your seats (if available) and add any additional features like 3D or IMAX.\\n5. Enter your payment information and confirm your booking.\\n6. You'll receive a confirmation email with your ticket details.\\n\\n**Option 2: Mobile App**\\n\\n1. Download the mobile app of a movie theater chain or a ticketing app like:\\n\\t* Fandango (iOS, Android)\\n\\t* Atom Tickets (iOS, Android)\\n\\t* MovieTickets (iOS, Android)\\n2. Open the app and enter your location or zip code to find nearby theaters.\\n3. Select the movie you want to watch and the showtime you prefer.\\n4. Choose your seats (if available) and add any additional features like 3D or IMAX.\\n5. Enter your payment information and confirm your booking.\\n6. You'll receive a confirmation email with your ticket details.\\n\\n**Option 3: In-Person Booking**\\n\\n1. Visit a movie theater box office or a ticketing kiosk.\\n2. Inform the staff that you'd like to book tickets for a specific movie and showtime.\\n3. Choose your seats (if available) and add any additional features like 3D or IMAX.\\n4. Pay for your tickets using cash, credit card, or other accepted payment methods.\\n5. You'll receive a physical ticket or a receipt with your ticket details.\\n\\n**Tips**\\n\\n* Check the movie theater's website or app for any special promotions, discounts, or restrictions.\\n* Be aware of any additional fees for services like online booking or reserved seating.\\n* Arrive at the theater at least 30 minutes before the showtime to collect your tickets or exchange your confirmation email for a physical ticket.\\n* Some theaters may have specific rules or restrictions for ticket bookings, so be sure to check their website or contact them directly if you have any questions.\" additional_kwargs={} response_metadata={'token_usage': {'completion_tokens': 503, 'prompt_tokens': 18, 'total_tokens': 521, 'completion_time': 0.419166667, 'prompt_time': 0.006841163, 'queue_time': 0.308909417, 'total_time': 0.42600783}, 'model_name': 'llama3-8b-8192', 'system_fingerprint': 'fp_6a6771ae9c', 'finish_reason': 'stop', 'logprobs': None} id='run-ca921ecd-a314-4e4f-97ed-be4b2b98d3e6-0' usage_metadata={'input_tokens': 18, 'output_tokens': 503, 'total_tokens': 521}\n"
     ]
    }
   ],
   "source": [
    "#Getting response \n",
    "response = llm.invoke(\"How to book movie tickets in USA?\")\n",
    "print(response)"
   ]
  },
  {
   "cell_type": "code",
   "execution_count": null,
   "metadata": {},
   "outputs": [],
   "source": []
  }
 ],
 "metadata": {
  "kernelspec": {
   "display_name": "base",
   "language": "python",
   "name": "python3"
  },
  "language_info": {
   "codemirror_mode": {
    "name": "ipython",
    "version": 3
   },
   "file_extension": ".py",
   "mimetype": "text/x-python",
   "name": "python",
   "nbconvert_exporter": "python",
   "pygments_lexer": "ipython3",
   "version": "3.12.7"
  }
 },
 "nbformat": 4,
 "nbformat_minor": 2
}
